{
  "nbformat": 4,
  "nbformat_minor": 0,
  "metadata": {
    "colab": {
      "provenance": [],
      "authorship_tag": "ABX9TyNgdVPBNa2XSYZiHFS2JcDn",
      "include_colab_link": true
    },
    "kernelspec": {
      "name": "python3",
      "display_name": "Python 3"
    },
    "language_info": {
      "name": "python"
    }
  },
  "cells": [
    {
      "cell_type": "markdown",
      "metadata": {
        "id": "view-in-github",
        "colab_type": "text"
      },
      "source": [
        "<a href=\"https://colab.research.google.com/github/Zouave971/agentic_training/blob/main/quasi-agent.ipynb\" target=\"_parent\"><img src=\"https://colab.research.google.com/assets/colab-badge.svg\" alt=\"Open In Colab\"/></a>"
      ]
    },
    {
      "cell_type": "code",
      "execution_count": 1,
      "metadata": {
        "id": "ebeQHhiuXhAj"
      },
      "outputs": [],
      "source": [
        "!pip install litellm --quiet\n",
        "\n",
        "import os\n",
        "from google.colab import userdata\n",
        "api_key = userdata.get('OPENAI_API_KEY')\n",
        "os.environ['OPENAI_API_KEY'] = api_key\n",
        ""
      ]
    },
    {
      "cell_type": "code",
      "source": [
        "from litellm import completion\n",
        "from typing import List, Dict"
      ],
      "metadata": {
        "id": "Lxe4s-Isf963"
      },
      "execution_count": 2,
      "outputs": []
    },
    {
      "cell_type": "code",
      "source": [
        "def generate_response(messages: List[Dict]) -> str:\n",
        "    \"\"\"Call LLM to get response\"\"\"\n",
        "    response = completion(\n",
        "        model=\"openai/gpt-4o\",\n",
        "        messages=messages,\n",
        "        max_tokens=1024\n",
        "    )\n",
        "    return response.choices[0].message.content"
      ],
      "metadata": {
        "id": "iLSzG7EvXiDp"
      },
      "execution_count": 3,
      "outputs": []
    },
    {
      "cell_type": "code",
      "source": [
        "# Prompt 1 - Which Function ?\n",
        "request_function = input(\"what function do you want to create ?\")\n",
        "messages = [\n",
        "    {\"role\": \"system\", \"content\": \"You are a skilled software engineer. You will provide the code of a function the user asks. One can copy paste the code you generate and run it directly\"},\n",
        "    {\"role\": \"user\", \"content\": request_function}\n",
        "]\n",
        "prompt_1_response = generate_response(messages)\n",
        "print(prompt_1_response)\n",
        "print('<------------- End of Prompt 1 --------------->')\n",
        "\n",
        "\n",
        "# Remove comment\n",
        "messages = [\n",
        "    {\"role\": \"system\", \"content\": \"You are a skilled software engineer. You will remove all comments of the code provided by the user.\"},\n",
        "    {\"role\": \"user\", \"content\": prompt_1_response}\n",
        "]\n",
        "prompt_1bis_response = generate_response(messages)\n",
        "print(prompt_1bis_response)\n",
        "print('<------------- End of Prompt 1 bis--------------->')"
      ],
      "metadata": {
        "colab": {
          "base_uri": "https://localhost:8080/"
        },
        "id": "M-5rAWQjYbbY",
        "outputId": "43be8f02-7204-41eb-d701-a0631186650b"
      },
      "execution_count": 4,
      "outputs": [
        {
          "output_type": "stream",
          "name": "stdout",
          "text": [
            "what function do you want to create ?A function to compute the n-th term of a fibonacci suite\n",
            "Here's a Python function to compute the n-th term of the Fibonacci sequence using an iterative approach:\n",
            "\n",
            "```python\n",
            "def fibonacci(n):\n",
            "    if n < 0:\n",
            "        raise ValueError(\"Input cannot be negative.\")\n",
            "    elif n == 0:\n",
            "        return 0\n",
            "    elif n == 1:\n",
            "        return 1\n",
            "\n",
            "    a, b = 0, 1\n",
            "    for _ in range(2, n + 1):\n",
            "        a, b = b, a + b\n",
            "    return b\n",
            "\n",
            "# Example usage:\n",
            "n = 10\n",
            "print(f\"The {n}-th term of the Fibonacci sequence is: {fibonacci(n)}\")\n",
            "```\n",
            "\n",
            "This function uses iteration to calculate the Fibonacci sequence up to the n-th term, which avoids the potential pitfalls of recursion, such as stack overflow for large `n`. It runs in O(n) time complexity and O(1) space complexity.\n",
            "<------------- End of Prompt 1 --------------->\n",
            "```python\n",
            "def fibonacci(n):\n",
            "    if n < 0:\n",
            "        raise ValueError(\"Input cannot be negative.\")\n",
            "    elif n == 0:\n",
            "        return 0\n",
            "    elif n == 1:\n",
            "        return 1\n",
            "\n",
            "    a, b = 0, 1\n",
            "    for _ in range(2, n + 1):\n",
            "        a, b = b, a + b\n",
            "    return b\n",
            "\n",
            "n = 10\n",
            "print(f\"The {n}-th term of the Fibonacci sequence is: {fibonacci(n)}\")\n",
            "```\n",
            "<------------- End of Prompt 1 bis--------------->\n"
          ]
        }
      ]
    },
    {
      "cell_type": "code",
      "source": [
        "# Prompt 2 - Add comprehensive documentation\n",
        "messages = [\n",
        "    {\"role\": \"system\", \"content\": \"You are a skilled software engineer. You will take as an input the code provided by the user and add a function description, the parameters description, the return value description, example usage and edge cases\"},\n",
        "    {\"role\": \"user\", \"content\": prompt_1_response}\n",
        "]\n",
        "prompt_2_response = generate_response(messages)\n",
        "print(prompt_2_response)\n",
        "print('<------------- End of Prompt 2--------------->')"
      ],
      "metadata": {
        "colab": {
          "base_uri": "https://localhost:8080/"
        },
        "id": "gl3Sj4zrYdqh",
        "outputId": "23970238-ec39-4248-d34f-706a2afae76d"
      },
      "execution_count": 5,
      "outputs": [
        {
          "output_type": "stream",
          "name": "stdout",
          "text": [
            "Here's an augmented version of the provided code, including detailed descriptions and edge cases:\n",
            "\n",
            "```python\n",
            "def fibonacci(n):\n",
            "    \"\"\"\n",
            "    Calculate the n-th term of the Fibonacci sequence using an iterative approach.\n",
            "\n",
            "    The Fibonacci sequence is a series of numbers where each number is the sum\n",
            "    of the two preceding ones, usually starting with 0 and 1. This implementation\n",
            "    efficiently computes the n-th term using iteration.\n",
            "\n",
            "    Parameters:\n",
            "    n (int): The index of the term in the Fibonacci sequence to be computed. Must be non-negative.\n",
            "\n",
            "    Returns:\n",
            "    int: The n-th term of the Fibonacci sequence.\n",
            "\n",
            "    Raises:\n",
            "    ValueError: If the input n is negative.\n",
            "\n",
            "    Example:\n",
            "    >>> fibonacci(10)\n",
            "    55\n",
            "\n",
            "    Edge Cases:\n",
            "    - The function raises a ValueError if a negative number is provided.\n",
            "    - It correctly returns 0 for n = 0 and 1 for n = 1, which are the first two terms\n",
            "      of the Fibonacci sequence.\n",
            "    - For large values of n, given the iterative approach, it handles computation\n",
            "      efficiently without the risk of stack overflow.\n",
            "\n",
            "    \"\"\"\n",
            "    if n < 0:\n",
            "        raise ValueError(\"Input cannot be negative.\")\n",
            "    elif n == 0:\n",
            "        return 0\n",
            "    elif n == 1:\n",
            "        return 1\n",
            "\n",
            "    a, b = 0, 1\n",
            "    for _ in range(2, n + 1):\n",
            "        a, b = b, a + b\n",
            "    return b\n",
            "\n",
            "# Example usage:\n",
            "n = 10\n",
            "print(f\"The {n}-th term of the Fibonacci sequence is: {fibonacci(n)}\")\n",
            "```\n",
            "\n",
            "### Function Description:\n",
            "This function computes the n-th term of the Fibonacci sequence using iteration. It is a more efficient approach compared to recursion for larger `n`, as it prevents excessive stack usage.\n",
            "\n",
            "### Parameters Description:\n",
            "- **n (int):** The index of the Fibonacci sequence term to be calculated. It must be a non-negative integer.\n",
            "\n",
            "### Return Value Description:\n",
            "- **int:** The n-th term of the Fibonacci sequence.\n",
            "\n",
            "### Example Usage:\n",
            "```python\n",
            "print(fibonacci(0))  # Output: 0\n",
            "print(fibonacci(1))  # Output: 1\n",
            "print(fibonacci(5))  # Output: 5\n",
            "print(fibonacci(10)) # Output: 55\n",
            "```\n",
            "\n",
            "### Edge Cases:\n",
            "- **Negative inputs:** The function will raise a `ValueError` if `n` is negative.\n",
            "- **Base cases:** Returns 0 for `n = 0` and 1 for `n = 1`. These are the starting points of the Fibonacci sequence.\n",
            "- **Large inputs:** Handles large `n` efficiently with O(n) time complexity and O(1) space complexity.\n",
            "<------------- End of Prompt 2--------------->\n"
          ]
        }
      ]
    },
    {
      "cell_type": "code",
      "source": [
        "# Prompt 3 - Add test\n",
        "# Prompt 2 - Add comprehensive documentation\n",
        "messages = [\n",
        "    {\"role\": \"system\", \"content\": \"You are a skilled software engineer. You will take as an input the code provided by the user and add a test cases. The tests should cover: basic functionality, Edge cases, Error cases, Various input scenarios\"},\n",
        "    {\"role\": \"user\", \"content\": prompt_2_response}\n",
        "]\n",
        "prompt_3_response = generate_response(messages)\n",
        "print(prompt_3_response)"
      ],
      "metadata": {
        "colab": {
          "base_uri": "https://localhost:8080/"
        },
        "id": "-YG5veFUYf-4",
        "outputId": "17d69a09-67f8-4189-f17f-df6464920702"
      },
      "execution_count": 6,
      "outputs": [
        {
          "output_type": "stream",
          "name": "stdout",
          "text": [
            "To ensure the `fibonacci` function is robust and works correctly across a variety of scenarios, we should implement a series of test cases. These will cover basic functionality, edge cases, error cases, and various input scenarios. Here's how you can structure these tests:\n",
            "\n",
            "```python\n",
            "import unittest\n",
            "\n",
            "class TestFibonacciFunction(unittest.TestCase):\n",
            "    \n",
            "    def test_basic_functionality(self):\n",
            "        # Testing with known Fibonacci sequence values\n",
            "        self.assertEqual(fibonacci(0), 0, \"The 0-th term should be 0\")\n",
            "        self.assertEqual(fibonacci(1), 1, \"The 1-st term should be 1\")\n",
            "        self.assertEqual(fibonacci(2), 1, \"The 2-nd term should be 1\")\n",
            "        self.assertEqual(fibonacci(3), 2, \"The 3-rd term should be 2\")\n",
            "        self.assertEqual(fibonacci(5), 5, \"The 5-th term should be 5\")\n",
            "        self.assertEqual(fibonacci(10), 55, \"The 10-th term should be 55\")\n",
            "\n",
            "    def test_edge_cases(self):\n",
            "        # Testing for larger known edge case values\n",
            "        self.assertEqual(fibonacci(20), 6765, \"The 20-th term should be 6765\")\n",
            "        self.assertEqual(fibonacci(30), 832040, \"The 30-th term should be 832040\")\n",
            "\n",
            "    def test_error_cases(self):\n",
            "        # Testing for errors with invalid input\n",
            "        with self.assertRaises(ValueError):\n",
            "            fibonacci(-1)  # Should raise ValueError for negative input\n",
            "        with self.assertRaises(ValueError):\n",
            "            fibonacci(-10) # Should raise ValueError for larger negative input\n",
            "\n",
            "    def test_large_input(self):\n",
            "        # Testing functionality with large inputs\n",
            "        self.assertEqual(fibonacci(50), 12586269025, \"The 50-th term should be 12586269025\")\n",
            "        self.assertEqual(fibonacci(100), 354224848179261915075, \"The 100-th term should be 354224848179261915075\")\n",
            "\n",
            "if __name__ == \"__main__\":\n",
            "    unittest.main()\n",
            "```\n",
            "\n",
            "### Test Details:\n",
            "1. **Basic Functionality:**\n",
            "   - These tests check the function with small Fibonacci numbers and ensure that they match expected outputs.\n",
            "\n",
            "2. **Edge Cases:**\n",
            "   - Tests include checking known larger values that are reasonable to compute without causing computational stress.\n",
            "\n",
            "3. **Error Cases:**\n",
            "   - Tests ensure that the function correctly raises a `ValueError` for negative input values, as specified in the function's documentation.\n",
            "\n",
            "4. **Large Inputs:**\n",
            "   - Tests for capability to handle large numbers efficiently and correctly, demonstrating both performance and correctness.\n",
            "\n",
            "You can run these tests using a Python testing framework such as `unittest`. This structure provides a comprehensive coverage to validate the correctness of your Fibonacci function under various scenarios.\n"
          ]
        }
      ]
    }
  ]
}