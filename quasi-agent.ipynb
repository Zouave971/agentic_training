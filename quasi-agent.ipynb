{
  "nbformat": 4,
  "nbformat_minor": 0,
  "metadata": {
    "colab": {
      "provenance": [],
      "authorship_tag": "ABX9TyODPWOZypHq5nLq5ZSYN8Dc",
      "include_colab_link": true
    },
    "kernelspec": {
      "name": "python3",
      "display_name": "Python 3"
    },
    "language_info": {
      "name": "python"
    }
  },
  "cells": [
    {
      "cell_type": "markdown",
      "metadata": {
        "id": "view-in-github",
        "colab_type": "text"
      },
      "source": [
        "<a href=\"https://colab.research.google.com/github/Zouave971/agentic_training/blob/main/quasi-agent.ipynb\" target=\"_parent\"><img src=\"https://colab.research.google.com/assets/colab-badge.svg\" alt=\"Open In Colab\"/></a>"
      ]
    },
    {
      "cell_type": "code",
      "execution_count": 2,
      "metadata": {
        "id": "ebeQHhiuXhAj"
      },
      "outputs": [],
      "source": [
        "!pip install litellm --quiet\n",
        "\n",
        "import os\n",
        "from google.colab import userdata\n",
        "api_key = userdata.get('OPENAI_API_KEY')\n",
        "os.environ['OPENAI_API_KEY'] = api_key\n",
        ""
      ]
    },
    {
      "cell_type": "code",
      "source": [
        "def generate_response(messages: List[Dict]) -> str:\n",
        "    \"\"\"Call LLM to get response\"\"\"\n",
        "    response = completion(\n",
        "        model=\"openai/gpt-4o\",\n",
        "        messages=messages,\n",
        "        max_tokens=1024\n",
        "    )\n",
        "    return response.choices[0].message.content"
      ],
      "metadata": {
        "id": "iLSzG7EvXiDp"
      },
      "execution_count": null,
      "outputs": []
    },
    {
      "cell_type": "code",
      "source": [
        "# Prompt 1 - Which Function ?\n",
        "request_function = input(\"what function do you want to create ?\")\n",
        "messages = [\n",
        "    {\"role\": \"system\", \"content\": \"You are a skilled software engineer. You will provide the code of a function the use asks.\"},\n",
        "    {\"role\": \"user\", \"content\": request_function}\n",
        "]"
      ],
      "metadata": {
        "id": "M-5rAWQjYbbY"
      },
      "execution_count": null,
      "outputs": []
    },
    {
      "cell_type": "code",
      "source": [
        "# Prompt 2 - Add comprehensive documentation"
      ],
      "metadata": {
        "id": "gl3Sj4zrYdqh"
      },
      "execution_count": null,
      "outputs": []
    },
    {
      "cell_type": "code",
      "source": [
        "# Prompt 3 - Add test"
      ],
      "metadata": {
        "id": "-YG5veFUYf-4"
      },
      "execution_count": null,
      "outputs": []
    }
  ]
}