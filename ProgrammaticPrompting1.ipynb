{
  "nbformat": 4,
  "nbformat_minor": 0,
  "metadata": {
    "colab": {
      "provenance": [],
      "include_colab_link": true
    },
    "kernelspec": {
      "name": "python3",
      "display_name": "Python 3"
    },
    "language_info": {
      "name": "python"
    }
  },
  "cells": [
    {
      "cell_type": "markdown",
      "metadata": {
        "id": "view-in-github",
        "colab_type": "text"
      },
      "source": [
        "<a href=\"https://colab.research.google.com/github/Zouave971/agentic_training/blob/main/ProgrammaticPrompting1.ipynb\" target=\"_parent\"><img src=\"https://colab.research.google.com/assets/colab-badge.svg\" alt=\"Open In Colab\"/></a>"
      ]
    },
    {
      "cell_type": "code",
      "source": [
        "!!pip install litellm\n",
        "\n",
        "# Important!!!\n",
        "#\n",
        "# <---- Set your 'OPENAI_API_KEY' as a secret over there with the \"key\" icon\n",
        "#\n",
        "#\n",
        "import os\n",
        "from google.colab import userdata\n",
        "api_key = userdata.get('OPENAI_API_KEY')\n",
        "os.environ['OPENAI_API_KEY'] = api_key"
      ],
      "metadata": {
        "id": "KEYrzG2vB8Ip"
      },
      "execution_count": 1,
      "outputs": []
    },
    {
      "cell_type": "code",
      "execution_count": 2,
      "metadata": {
        "colab": {
          "base_uri": "https://localhost:8080/"
        },
        "id": "Mwe2eeOQB0cC",
        "outputId": "d32f38ef-20ca-47c9-9ef0-e340babe2d9f"
      },
      "outputs": [
        {
          "output_type": "stream",
          "name": "stdout",
          "text": [
            "To swap keys and values in a dictionary in a functional programming style, you can make use of Python's `dict` and `map` functions. Here's a pure function that takes a dictionary as input and returns a new dictionary with keys and values swapped:\n",
            "\n",
            "```python\n",
            "def swap_keys_values(input_dict):\n",
            "    return dict(map(lambda item: (item[1], item[0]), input_dict.items()))\n",
            "\n",
            "# Example usage:\n",
            "input_dict = {'a': 1, 'b': 2, 'c': 3}\n",
            "swapped_dict = swap_keys_values(input_dict)\n",
            "print(swapped_dict)  # Output: {1: 'a', 2: 'b', 3: 'c'}\n",
            "```\n",
            "\n",
            "### Explanation:\n",
            "\n",
            "1. **`input_dict.items()`**: This retrieves a view of the dictionary's items (key-value pairs).\n",
            "2. **`map(...)`**: `map` is used to apply a function to each item in `input_dict.items()`. The function here is a `lambda` that takes a tuple `item` (e.g., `('a', 1)`) and swaps it to `(1, 'a')`.\n",
            "3. **`dict(...)`**: Converts the iterable of tuples back into a dictionary.\n",
            "\n",
            "This approach captures the essence of functional programming by using immutable data and higher-order functions. Note that this implementation assumes that all dictionary values are unique, as duplicate values would lead to lost keys in the swapped dictionary.\n"
          ]
        }
      ],
      "source": [
        "from litellm import completion\n",
        "from typing import List, Dict\n",
        "\n",
        "\n",
        "def generate_response(messages: List[Dict]) -> str:\n",
        "    \"\"\"Call LLM to get response\"\"\"\n",
        "    response = completion(\n",
        "        model=\"openai/gpt-4o\",\n",
        "        messages=messages,\n",
        "        max_tokens=1024\n",
        "    )\n",
        "    return response.choices[0].message.content\n",
        "\n",
        "\n",
        "messages = [\n",
        "    {\"role\": \"system\", \"content\": \"You are an expert software engineer that prefers functional programming.\"},\n",
        "    {\"role\": \"user\", \"content\": \"Write a function to swap the keys and values in a dictionary.\"}\n",
        "]\n",
        "\n",
        "response = generate_response(messages)\n",
        "print(response)"
      ]
    }
  ]
}